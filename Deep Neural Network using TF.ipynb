{
 "cells": [
  {
   "cell_type": "code",
   "execution_count": 22,
   "metadata": {},
   "outputs": [],
   "source": [
    "import tensorflow as tf\n",
    "import numpy as np"
   ]
  },
  {
   "cell_type": "markdown",
   "metadata": {},
   "source": [
    "## Construction Phase"
   ]
  },
  {
   "cell_type": "code",
   "execution_count": 23,
   "metadata": {},
   "outputs": [],
   "source": [
    "n_inputs = 28*28\n",
    "n_hidden1 = 300\n",
    "n_hidden2 =100\n",
    "n_outputs = 10 "
   ]
  },
  {
   "cell_type": "code",
   "execution_count": 24,
   "metadata": {},
   "outputs": [],
   "source": [
    "X = tf.placeholder(tf.float32, shape = (None, n_inputs), name = \"X\")\n",
    "y = tf.placeholder(tf.int64, shape = (None), name = \"y\")"
   ]
  },
  {
   "cell_type": "markdown",
   "metadata": {},
   "source": [
    " - Creating subgraph for one neuron layer "
   ]
  },
  {
   "cell_type": "code",
   "execution_count": 25,
   "metadata": {},
   "outputs": [],
   "source": [
    "def neuron_layer(X, n_neurons, name, activation=None):\n",
    "    with tf.name_scope(name):\n",
    "        n_inputs = int(X.get_shape()[1])\n",
    "        stddev = 2 / np.sqrt(n_inputs)\n",
    "        init = tf.truncated_normal((n_inputs, n_neurons), stddev=stddev)\n",
    "        W = tf.Variable(init, name=\"weights\")\n",
    "        b = tf.Variable(tf.zeros([n_neurons]), name=\"biases\")\n",
    "        z = tf.matmul(X,W) + b \n",
    "        if activation == \"relu\":\n",
    "            return tf.nn.relu(z)\n",
    "        else:\n",
    "            return z"
   ]
  },
  {
   "cell_type": "markdown",
   "metadata": {},
   "source": [
    "#### Breakdown of neuron_layer( ) code\n",
    "\n",
    "1. Creating a name scope using the name of the given layer \n",
    "2. Getting the number of inputs\n",
    "3. Initializing wieghts by a Gaussian Distribution\n",
    "4. Initializing biases with zero\n",
    "5. Creating a subgraph to compute $z = X.W +b$\n",
    "6. Returning output based on activation function\n"
   ]
  },
  {
   "cell_type": "markdown",
   "metadata": {},
   "source": [
    "- Creating graph for a deep neural network with 2 hidden layer"
   ]
  },
  {
   "cell_type": "code",
   "execution_count": 26,
   "metadata": {},
   "outputs": [],
   "source": [
    "with tf.name_scope(\"dnn\"):\n",
    "    hidden1 = neuron_layer(X, n_hidden1, \"hidden1\", activation=\"relu\")\n",
    "    hidden2 = neuron_layer(hidden1, n_hidden2, \"hidden2\", activation=\"relu\")\n",
    "    logits = neuron_layer(hidden2, n_outputs, \"outputs\")"
   ]
  },
  {
   "cell_type": "markdown",
   "metadata": {},
   "source": [
    "- Subgraph for computing loss"
   ]
  },
  {
   "cell_type": "code",
   "execution_count": 27,
   "metadata": {},
   "outputs": [],
   "source": [
    "with tf.name_scope(\"loss\"):\n",
    "    xentropy = tf.nn.sparse_softmax_cross_entropy_with_logits(labels=y,\n",
    "                                                             logits=logits)\n",
    "    loss = tf.reduce_mean(xentropy, name=\"loss\")"
   ]
  },
  {
   "cell_type": "markdown",
   "metadata": {},
   "source": [
    "- Subgraph for optimization using gradient descent "
   ]
  },
  {
   "cell_type": "code",
   "execution_count": 28,
   "metadata": {},
   "outputs": [],
   "source": [
    "learning_rate = 0.01\n",
    "\n",
    "with tf.name_scope(\"train\"):\n",
    "    optimizer = tf.train.GradientDescentOptimizer(learning_rate)\n",
    "    training_op = optimizer.minimize(loss)"
   ]
  },
  {
   "cell_type": "markdown",
   "metadata": {},
   "source": [
    "-  Subgraph for evaluation metrics"
   ]
  },
  {
   "cell_type": "code",
   "execution_count": 29,
   "metadata": {},
   "outputs": [],
   "source": [
    "with tf.name_scope(\"eval\"):\n",
    "    correct = tf.nn.in_top_k(logits, y, 1)\n",
    "    accuracy = tf.reduce_mean(tf.cast(correct, tf.float32))"
   ]
  },
  {
   "cell_type": "markdown",
   "metadata": {},
   "source": [
    "Now let's initialize"
   ]
  },
  {
   "cell_type": "code",
   "execution_count": 30,
   "metadata": {},
   "outputs": [],
   "source": [
    "init = tf.global_variables_initializer()\n",
    "saver = tf.train.Saver()"
   ]
  },
  {
   "cell_type": "code",
   "execution_count": 31,
   "metadata": {},
   "outputs": [],
   "source": [
    "from datetime import datetime\n",
    "\n",
    "now = datetime.utcnow().strftime(\"%Y%m%d%H%M%S\")\n",
    "root_logdir = \"tf_logs\"\n",
    "logdir = \"{}/run-{}/\".format(root_logdir, now)"
   ]
  },
  {
   "cell_type": "markdown",
   "metadata": {},
   "source": [
    "## Execution Phase"
   ]
  },
  {
   "cell_type": "code",
   "execution_count": 32,
   "metadata": {},
   "outputs": [
    {
     "name": "stdout",
     "output_type": "stream",
     "text": [
      "Extracting /tmp/data/train-images-idx3-ubyte.gz\n",
      "Extracting /tmp/data/train-labels-idx1-ubyte.gz\n",
      "Extracting /tmp/data/t10k-images-idx3-ubyte.gz\n",
      "Extracting /tmp/data/t10k-labels-idx1-ubyte.gz\n"
     ]
    }
   ],
   "source": [
    "# loading the dataset\n",
    "\n",
    "from tensorflow.examples.tutorials.mnist import input_data\n",
    "mnist = input_data.read_data_sets(\"/tmp/data/\")"
   ]
  },
  {
   "cell_type": "code",
   "execution_count": 33,
   "metadata": {},
   "outputs": [],
   "source": [
    "n_epochs = 40\n",
    "batch_size = 50 "
   ]
  },
  {
   "cell_type": "code",
   "execution_count": 34,
   "metadata": {},
   "outputs": [
    {
     "name": "stdout",
     "output_type": "stream",
     "text": [
      "0 Train Accuracy: 0.88 Test Accuracy: 0.9146\n",
      "1 Train Accuracy: 0.98 Test Accuracy: 0.9286\n",
      "2 Train Accuracy: 0.96 Test Accuracy: 0.9383\n",
      "3 Train Accuracy: 0.94 Test Accuracy: 0.9435\n",
      "4 Train Accuracy: 0.92 Test Accuracy: 0.9486\n",
      "5 Train Accuracy: 0.98 Test Accuracy: 0.9523\n",
      "6 Train Accuracy: 0.98 Test Accuracy: 0.9529\n",
      "7 Train Accuracy: 0.96 Test Accuracy: 0.9574\n",
      "8 Train Accuracy: 1.0 Test Accuracy: 0.9594\n",
      "9 Train Accuracy: 1.0 Test Accuracy: 0.9623\n",
      "10 Train Accuracy: 0.98 Test Accuracy: 0.964\n",
      "11 Train Accuracy: 1.0 Test Accuracy: 0.9649\n",
      "12 Train Accuracy: 0.98 Test Accuracy: 0.9659\n",
      "13 Train Accuracy: 0.94 Test Accuracy: 0.9656\n",
      "14 Train Accuracy: 0.96 Test Accuracy: 0.9677\n",
      "15 Train Accuracy: 0.98 Test Accuracy: 0.9679\n",
      "16 Train Accuracy: 1.0 Test Accuracy: 0.9688\n",
      "17 Train Accuracy: 0.98 Test Accuracy: 0.969\n",
      "18 Train Accuracy: 0.98 Test Accuracy: 0.9713\n",
      "19 Train Accuracy: 1.0 Test Accuracy: 0.9708\n",
      "20 Train Accuracy: 0.98 Test Accuracy: 0.971\n",
      "21 Train Accuracy: 1.0 Test Accuracy: 0.972\n",
      "22 Train Accuracy: 0.98 Test Accuracy: 0.9721\n",
      "23 Train Accuracy: 0.94 Test Accuracy: 0.9738\n",
      "24 Train Accuracy: 1.0 Test Accuracy: 0.9747\n",
      "25 Train Accuracy: 1.0 Test Accuracy: 0.974\n",
      "26 Train Accuracy: 1.0 Test Accuracy: 0.9753\n",
      "27 Train Accuracy: 1.0 Test Accuracy: 0.9747\n",
      "28 Train Accuracy: 0.98 Test Accuracy: 0.9745\n",
      "29 Train Accuracy: 1.0 Test Accuracy: 0.9758\n",
      "30 Train Accuracy: 1.0 Test Accuracy: 0.9753\n",
      "31 Train Accuracy: 1.0 Test Accuracy: 0.9757\n",
      "32 Train Accuracy: 1.0 Test Accuracy: 0.9765\n",
      "33 Train Accuracy: 1.0 Test Accuracy: 0.9758\n",
      "34 Train Accuracy: 1.0 Test Accuracy: 0.9765\n",
      "35 Train Accuracy: 1.0 Test Accuracy: 0.9765\n",
      "36 Train Accuracy: 1.0 Test Accuracy: 0.977\n",
      "37 Train Accuracy: 0.98 Test Accuracy: 0.9763\n",
      "38 Train Accuracy: 1.0 Test Accuracy: 0.9774\n",
      "39 Train Accuracy: 1.0 Test Accuracy: 0.9777\n"
     ]
    }
   ],
   "source": [
    "# Training the model \n",
    "\n",
    "with tf.Session() as sess:\n",
    "    init.run()\n",
    "    \n",
    "    for epoch in range(n_epochs):\n",
    "        for iteration in range(mnist.train.num_examples // batch_size):\n",
    "            X_batch, y_batch = mnist.train.next_batch(batch_size)\n",
    "            sess.run(training_op, feed_dict={X:X_batch, y:y_batch})\n",
    "        acc_train = accuracy.eval(feed_dict={X:X_batch, y:y_batch})\n",
    "        acc_test = accuracy.eval(feed_dict={X: mnist.test.images,\n",
    "                                           y: mnist.test.labels})\n",
    "        print(epoch, \n",
    "              \"Train Accuracy:\", acc_train, \n",
    "              \"Test Accuracy:\",acc_test)\n",
    "    save_path = saver.save(sess, \"./my_model_final.ckpt\")"
   ]
  }
 ],
 "metadata": {
  "kernelspec": {
   "display_name": "Python 3",
   "language": "python",
   "name": "python3"
  },
  "language_info": {
   "codemirror_mode": {
    "name": "ipython",
    "version": 3
   },
   "file_extension": ".py",
   "mimetype": "text/x-python",
   "name": "python",
   "nbconvert_exporter": "python",
   "pygments_lexer": "ipython3",
   "version": "3.6.3"
  }
 },
 "nbformat": 4,
 "nbformat_minor": 2
}
